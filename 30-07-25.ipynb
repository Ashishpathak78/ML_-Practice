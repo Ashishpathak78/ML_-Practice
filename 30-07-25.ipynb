{
 "cells": [
  {
   "cell_type": "code",
   "execution_count": 1,
   "id": "37f127f6",
   "metadata": {
    "_cell_guid": "b1076dfc-b9ad-4769-8c92-a6c4dae69d19",
    "_uuid": "8f2839f25d086af736a60e9eeb907d3b93b6e0e5",
    "execution": {
     "iopub.execute_input": "2025-08-05T15:46:10.164548Z",
     "iopub.status.busy": "2025-08-05T15:46:10.164203Z",
     "iopub.status.idle": "2025-08-05T15:46:11.917774Z",
     "shell.execute_reply": "2025-08-05T15:46:11.916917Z"
    },
    "papermill": {
     "duration": 1.758701,
     "end_time": "2025-08-05T15:46:11.919118",
     "exception": false,
     "start_time": "2025-08-05T15:46:10.160417",
     "status": "completed"
    },
    "tags": []
   },
   "outputs": [
    {
     "name": "stdout",
     "output_type": "stream",
     "text": [
      "/kaggle/input/obesity-levels/ObesityDataSet_raw_and_data_sinthetic.csv\n"
     ]
    }
   ],
   "source": [
    "# This Python 3 environment comes with many helpful analytics libraries installed\n",
    "# It is defined by the kaggle/python Docker image: https://github.com/kaggle/docker-python\n",
    "# For example, here's several helpful packages to load\n",
    "\n",
    "import numpy as np # linear algebra\n",
    "import pandas as pd # data processing, CSV file I/O (e.g. pd.read_csv)\n",
    "\n",
    "# Input data files are available in the read-only \"../input/\" directory\n",
    "# For example, running this (by clicking run or pressing Shift+Enter) will list all files under the input directory\n",
    "\n",
    "import os\n",
    "for dirname, _, filenames in os.walk('/kaggle/input'):\n",
    "    for filename in filenames:\n",
    "        print(os.path.join(dirname, filename))\n",
    "\n",
    "# You can write up to 20GB to the current directory (/kaggle/working/) that gets preserved as output when you create a version using \"Save & Run All\" \n",
    "# You can also write temporary files to /kaggle/temp/, but they won't be saved outside of the current session"
   ]
  },
  {
   "cell_type": "code",
   "execution_count": 2,
   "id": "5b4d0216",
   "metadata": {
    "execution": {
     "iopub.execute_input": "2025-08-05T15:46:11.924812Z",
     "iopub.status.busy": "2025-08-05T15:46:11.924167Z",
     "iopub.status.idle": "2025-08-05T15:46:11.999052Z",
     "shell.execute_reply": "2025-08-05T15:46:11.998399Z"
    },
    "papermill": {
     "duration": 0.0791,
     "end_time": "2025-08-05T15:46:12.000694",
     "exception": false,
     "start_time": "2025-08-05T15:46:11.921594",
     "status": "completed"
    },
    "tags": []
   },
   "outputs": [
    {
     "data": {
      "text/html": [
       "<div>\n",
       "<style scoped>\n",
       "    .dataframe tbody tr th:only-of-type {\n",
       "        vertical-align: middle;\n",
       "    }\n",
       "\n",
       "    .dataframe tbody tr th {\n",
       "        vertical-align: top;\n",
       "    }\n",
       "\n",
       "    .dataframe thead th {\n",
       "        text-align: right;\n",
       "    }\n",
       "</style>\n",
       "<table border=\"1\" class=\"dataframe\">\n",
       "  <thead>\n",
       "    <tr style=\"text-align: right;\">\n",
       "      <th></th>\n",
       "      <th>Age</th>\n",
       "      <th>Gender</th>\n",
       "      <th>Height</th>\n",
       "      <th>Weight</th>\n",
       "      <th>CALC</th>\n",
       "      <th>FAVC</th>\n",
       "      <th>FCVC</th>\n",
       "      <th>NCP</th>\n",
       "      <th>SCC</th>\n",
       "      <th>SMOKE</th>\n",
       "      <th>CH2O</th>\n",
       "      <th>family_history_with_overweight</th>\n",
       "      <th>FAF</th>\n",
       "      <th>TUE</th>\n",
       "      <th>CAEC</th>\n",
       "      <th>MTRANS</th>\n",
       "      <th>NObeyesdad</th>\n",
       "    </tr>\n",
       "  </thead>\n",
       "  <tbody>\n",
       "    <tr>\n",
       "      <th>0</th>\n",
       "      <td>21.0</td>\n",
       "      <td>Female</td>\n",
       "      <td>1.62</td>\n",
       "      <td>64.0</td>\n",
       "      <td>no</td>\n",
       "      <td>no</td>\n",
       "      <td>2.0</td>\n",
       "      <td>3.0</td>\n",
       "      <td>no</td>\n",
       "      <td>no</td>\n",
       "      <td>2.0</td>\n",
       "      <td>yes</td>\n",
       "      <td>0.0</td>\n",
       "      <td>1.0</td>\n",
       "      <td>Sometimes</td>\n",
       "      <td>Public_Transportation</td>\n",
       "      <td>Normal_Weight</td>\n",
       "    </tr>\n",
       "    <tr>\n",
       "      <th>1</th>\n",
       "      <td>21.0</td>\n",
       "      <td>Female</td>\n",
       "      <td>1.52</td>\n",
       "      <td>56.0</td>\n",
       "      <td>Sometimes</td>\n",
       "      <td>no</td>\n",
       "      <td>3.0</td>\n",
       "      <td>3.0</td>\n",
       "      <td>yes</td>\n",
       "      <td>yes</td>\n",
       "      <td>3.0</td>\n",
       "      <td>yes</td>\n",
       "      <td>3.0</td>\n",
       "      <td>0.0</td>\n",
       "      <td>Sometimes</td>\n",
       "      <td>Public_Transportation</td>\n",
       "      <td>Normal_Weight</td>\n",
       "    </tr>\n",
       "    <tr>\n",
       "      <th>2</th>\n",
       "      <td>23.0</td>\n",
       "      <td>Male</td>\n",
       "      <td>1.80</td>\n",
       "      <td>77.0</td>\n",
       "      <td>Frequently</td>\n",
       "      <td>no</td>\n",
       "      <td>2.0</td>\n",
       "      <td>3.0</td>\n",
       "      <td>no</td>\n",
       "      <td>no</td>\n",
       "      <td>2.0</td>\n",
       "      <td>yes</td>\n",
       "      <td>2.0</td>\n",
       "      <td>1.0</td>\n",
       "      <td>Sometimes</td>\n",
       "      <td>Public_Transportation</td>\n",
       "      <td>Normal_Weight</td>\n",
       "    </tr>\n",
       "    <tr>\n",
       "      <th>3</th>\n",
       "      <td>27.0</td>\n",
       "      <td>Male</td>\n",
       "      <td>1.80</td>\n",
       "      <td>87.0</td>\n",
       "      <td>Frequently</td>\n",
       "      <td>no</td>\n",
       "      <td>3.0</td>\n",
       "      <td>3.0</td>\n",
       "      <td>no</td>\n",
       "      <td>no</td>\n",
       "      <td>2.0</td>\n",
       "      <td>no</td>\n",
       "      <td>2.0</td>\n",
       "      <td>0.0</td>\n",
       "      <td>Sometimes</td>\n",
       "      <td>Walking</td>\n",
       "      <td>Overweight_Level_I</td>\n",
       "    </tr>\n",
       "    <tr>\n",
       "      <th>4</th>\n",
       "      <td>22.0</td>\n",
       "      <td>Male</td>\n",
       "      <td>1.78</td>\n",
       "      <td>89.8</td>\n",
       "      <td>Sometimes</td>\n",
       "      <td>no</td>\n",
       "      <td>2.0</td>\n",
       "      <td>1.0</td>\n",
       "      <td>no</td>\n",
       "      <td>no</td>\n",
       "      <td>2.0</td>\n",
       "      <td>no</td>\n",
       "      <td>0.0</td>\n",
       "      <td>0.0</td>\n",
       "      <td>Sometimes</td>\n",
       "      <td>Public_Transportation</td>\n",
       "      <td>Overweight_Level_II</td>\n",
       "    </tr>\n",
       "  </tbody>\n",
       "</table>\n",
       "</div>"
      ],
      "text/plain": [
       "    Age  Gender  Height  Weight        CALC FAVC  FCVC  NCP  SCC SMOKE  CH2O  \\\n",
       "0  21.0  Female    1.62    64.0          no   no   2.0  3.0   no    no   2.0   \n",
       "1  21.0  Female    1.52    56.0   Sometimes   no   3.0  3.0  yes   yes   3.0   \n",
       "2  23.0    Male    1.80    77.0  Frequently   no   2.0  3.0   no    no   2.0   \n",
       "3  27.0    Male    1.80    87.0  Frequently   no   3.0  3.0   no    no   2.0   \n",
       "4  22.0    Male    1.78    89.8   Sometimes   no   2.0  1.0   no    no   2.0   \n",
       "\n",
       "  family_history_with_overweight  FAF  TUE       CAEC                 MTRANS  \\\n",
       "0                            yes  0.0  1.0  Sometimes  Public_Transportation   \n",
       "1                            yes  3.0  0.0  Sometimes  Public_Transportation   \n",
       "2                            yes  2.0  1.0  Sometimes  Public_Transportation   \n",
       "3                             no  2.0  0.0  Sometimes                Walking   \n",
       "4                             no  0.0  0.0  Sometimes  Public_Transportation   \n",
       "\n",
       "            NObeyesdad  \n",
       "0        Normal_Weight  \n",
       "1        Normal_Weight  \n",
       "2        Normal_Weight  \n",
       "3   Overweight_Level_I  \n",
       "4  Overweight_Level_II  "
      ]
     },
     "execution_count": 2,
     "metadata": {},
     "output_type": "execute_result"
    }
   ],
   "source": [
    "import pandas as pd\n",
    "\n",
    "# Replace with your uploaded filename\n",
    "df = pd.read_csv(\"/kaggle/input/obesity-levels/ObesityDataSet_raw_and_data_sinthetic.csv\")\n",
    "\n",
    "# Display first few rows\n",
    "df.head()\n"
   ]
  },
  {
   "cell_type": "code",
   "execution_count": 3,
   "id": "578038f4",
   "metadata": {
    "execution": {
     "iopub.execute_input": "2025-08-05T15:46:12.006992Z",
     "iopub.status.busy": "2025-08-05T15:46:12.006148Z",
     "iopub.status.idle": "2025-08-05T15:46:13.403171Z",
     "shell.execute_reply": "2025-08-05T15:46:13.402313Z"
    },
    "papermill": {
     "duration": 1.401667,
     "end_time": "2025-08-05T15:46:13.404829",
     "exception": false,
     "start_time": "2025-08-05T15:46:12.003162",
     "status": "completed"
    },
    "tags": []
   },
   "outputs": [],
   "source": [
    "from sklearn.model_selection import train_test_split\n",
    "\n",
    "X = df.drop('NObeyesdad', axis=1)\n",
    "y = df['NObeyesdad']\n",
    "\n",
    "\n",
    "x_train, x_test, y_train, y_test = train_test_split(X, y, test_size=0.2, random_state=42)\n",
    "\n"
   ]
  },
  {
   "cell_type": "code",
   "execution_count": 4,
   "id": "f6f15608",
   "metadata": {
    "execution": {
     "iopub.execute_input": "2025-08-05T15:46:13.413595Z",
     "iopub.status.busy": "2025-08-05T15:46:13.413084Z",
     "iopub.status.idle": "2025-08-05T15:46:13.427885Z",
     "shell.execute_reply": "2025-08-05T15:46:13.426946Z"
    },
    "papermill": {
     "duration": 0.020654,
     "end_time": "2025-08-05T15:46:13.429390",
     "exception": false,
     "start_time": "2025-08-05T15:46:13.408736",
     "status": "completed"
    },
    "tags": []
   },
   "outputs": [
    {
     "name": "stdout",
     "output_type": "stream",
     "text": [
      "[]\n"
     ]
    }
   ],
   "source": [
    "constant_features = [col for col in x_train.columns if x_train[col].nunique() == 1]\n",
    "\n",
    "print(constant_features)"
   ]
  },
  {
   "cell_type": "code",
   "execution_count": 5,
   "id": "bb520e08",
   "metadata": {
    "execution": {
     "iopub.execute_input": "2025-08-05T15:46:13.435452Z",
     "iopub.status.busy": "2025-08-05T15:46:13.434797Z",
     "iopub.status.idle": "2025-08-05T15:46:13.450753Z",
     "shell.execute_reply": "2025-08-05T15:46:13.449892Z"
    },
    "papermill": {
     "duration": 0.020256,
     "end_time": "2025-08-05T15:46:13.452026",
     "exception": false,
     "start_time": "2025-08-05T15:46:13.431770",
     "status": "completed"
    },
    "tags": []
   },
   "outputs": [
    {
     "name": "stdout",
     "output_type": "stream",
     "text": [
      "[]\n"
     ]
    }
   ],
   "source": [
    "quasi_constant_features = []\n",
    "\n",
    "# Set the threshold (98%)\n",
    "threshold = 0.98\n",
    "\n",
    "for col in x_train.columns:\n",
    "    freq = x_train[col].value_counts(normalize=True).values[0]\n",
    "    if freq >= threshold:\n",
    "        quasi_constant_features.append(col)\n",
    "\n",
    "print( quasi_constant_features)\n",
    "\n"
   ]
  },
  {
   "cell_type": "code",
   "execution_count": 6,
   "id": "c839e58b",
   "metadata": {
    "execution": {
     "iopub.execute_input": "2025-08-05T15:46:13.457651Z",
     "iopub.status.busy": "2025-08-05T15:46:13.457399Z",
     "iopub.status.idle": "2025-08-05T15:46:13.471320Z",
     "shell.execute_reply": "2025-08-05T15:46:13.470322Z"
    },
    "papermill": {
     "duration": 0.018261,
     "end_time": "2025-08-05T15:46:13.472707",
     "exception": false,
     "start_time": "2025-08-05T15:46:13.454446",
     "status": "completed"
    },
    "tags": []
   },
   "outputs": [
    {
     "name": "stdout",
     "output_type": "stream",
     "text": [
      "Highly Correlated Features: []\n"
     ]
    }
   ],
   "source": [
    "import numpy as np\n",
    "\n",
    "# Drop constant columns\n",
    "non_constant_cols = [col for col in x_train.columns if x_train[col].nunique() > 1]\n",
    "x_train_non_constant = x_train[non_constant_cols]\n",
    "\n",
    "# Correlation matrix\n",
    "corr_matrix = x_train_non_constant.corr(numeric_only=True).abs()\n",
    "\n",
    "# Upper triangle\n",
    "upper = corr_matrix.where(np.triu(np.ones(corr_matrix.shape), k=1).astype(bool)).fillna(0)\n",
    "\n",
    "# Find highly correlated features\n",
    "correlated_features = [col for col in upper.columns if any(upper[col] > 0.90)]\n",
    "\n",
    "print(\"Highly Correlated Features:\", correlated_features)\n"
   ]
  },
  {
   "cell_type": "code",
   "execution_count": 7,
   "id": "40b6a8a8",
   "metadata": {
    "execution": {
     "iopub.execute_input": "2025-08-05T15:46:13.478533Z",
     "iopub.status.busy": "2025-08-05T15:46:13.478212Z",
     "iopub.status.idle": "2025-08-05T15:46:14.214775Z",
     "shell.execute_reply": "2025-08-05T15:46:14.213770Z"
    },
    "papermill": {
     "duration": 0.741056,
     "end_time": "2025-08-05T15:46:14.216234",
     "exception": false,
     "start_time": "2025-08-05T15:46:13.475178",
     "status": "completed"
    },
    "tags": []
   },
   "outputs": [
    {
     "name": "stdout",
     "output_type": "stream",
     "text": [
      "Top 10 Features by Mutual Information:\n",
      "Weight           1.235674\n",
      "Age              0.569793\n",
      "Height           0.444377\n",
      "FCVC             0.373120\n",
      "CH2O             0.299196\n",
      "FAF              0.295591\n",
      "TUE              0.280131\n",
      "NCP              0.245538\n",
      "Gender_Male      0.204690\n",
      "Gender_Female    0.202372\n",
      "dtype: float64\n"
     ]
    }
   ],
   "source": [
    "from sklearn.feature_selection import mutual_info_classif\n",
    "\n",
    "# For MI, encode categorical variables\n",
    "x_train_encoded = pd.get_dummies(x_train)\n",
    "x_test_encoded = pd.get_dummies(x_test)\n",
    "\n",
    "# Ensure both train and test have the same columns\n",
    "x_test_encoded = x_test_encoded.reindex(columns=x_train_encoded.columns, fill_value=0)\n",
    "\n",
    "# Calculate MI scores\n",
    "mi_scores = mutual_info_classif(x_train_encoded, y_train)\n",
    "\n",
    "# Sort and print\n",
    "mi_series = pd.Series(mi_scores, index=x_train_encoded.columns).sort_values(ascending=False)\n",
    "\n",
    "print(\"Top 10 Features by Mutual Information:\")\n",
    "print(mi_series.head(10))\n"
   ]
  }
 ],
 "metadata": {
  "kaggle": {
   "accelerator": "none",
   "dataSources": [
    {
     "datasetId": 4751341,
     "sourceId": 8055891,
     "sourceType": "datasetVersion"
    }
   ],
   "dockerImageVersionId": 31089,
   "isGpuEnabled": false,
   "isInternetEnabled": false,
   "language": "python",
   "sourceType": "notebook"
  },
  "kernelspec": {
   "display_name": "Python 3",
   "language": "python",
   "name": "python3"
  },
  "language_info": {
   "codemirror_mode": {
    "name": "ipython",
    "version": 3
   },
   "file_extension": ".py",
   "mimetype": "text/x-python",
   "name": "python",
   "nbconvert_exporter": "python",
   "pygments_lexer": "ipython3",
   "version": "3.11.13"
  },
  "papermill": {
   "default_parameters": {},
   "duration": 9.071789,
   "end_time": "2025-08-05T15:46:14.836693",
   "environment_variables": {},
   "exception": null,
   "input_path": "__notebook__.ipynb",
   "output_path": "__notebook__.ipynb",
   "parameters": {},
   "start_time": "2025-08-05T15:46:05.764904",
   "version": "2.6.0"
  }
 },
 "nbformat": 4,
 "nbformat_minor": 5
}
