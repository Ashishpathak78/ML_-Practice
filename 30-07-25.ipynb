{
 "cells": [
  {
   "cell_type": "code",
   "execution_count": 1,
   "id": "7e1ffb61",
   "metadata": {
    "_cell_guid": "b1076dfc-b9ad-4769-8c92-a6c4dae69d19",
    "_uuid": "8f2839f25d086af736a60e9eeb907d3b93b6e0e5",
    "execution": {
     "iopub.execute_input": "2025-08-19T16:09:58.016181Z",
     "iopub.status.busy": "2025-08-19T16:09:58.015828Z",
     "iopub.status.idle": "2025-08-19T16:09:59.913346Z",
     "shell.execute_reply": "2025-08-19T16:09:59.912190Z"
    },
    "papermill": {
     "duration": 1.903027,
     "end_time": "2025-08-19T16:09:59.914864",
     "exception": false,
     "start_time": "2025-08-19T16:09:58.011837",
     "status": "completed"
    },
    "tags": []
   },
   "outputs": [
    {
     "name": "stdout",
     "output_type": "stream",
     "text": [
      "/kaggle/input/obesity-levels/ObesityDataSet_raw_and_data_sinthetic.csv\n"
     ]
    }
   ],
   "source": [
    "# This Python 3 environment comes with many helpful analytics libraries installed\n",
    "# It is defined by the kaggle/python Docker image: https://github.com/kaggle/docker-python\n",
    "# For example, here's several helpful packages to load\n",
    "\n",
    "import numpy as np # linear algebra\n",
    "import pandas as pd # data processing, CSV file I/O (e.g. pd.read_csv)\n",
    "\n",
    "# Input data files are available in the read-only \"../input/\" directory\n",
    "# For example, running this (by clicking run or pressing Shift+Enter) will list all files under the input directory\n",
    "\n",
    "import os\n",
    "for dirname, _, filenames in os.walk('/kaggle/input'):\n",
    "    for filename in filenames:\n",
    "        print(os.path.join(dirname, filename))\n",
    "\n",
    "# You can write up to 20GB to the current directory (/kaggle/working/) that gets preserved as output when you create a version using \"Save & Run All\" \n",
    "# You can also write temporary files to /kaggle/temp/, but they won't be saved outside of the current session"
   ]
  },
  {
   "cell_type": "code",
   "execution_count": 2,
   "id": "867b589d",
   "metadata": {
    "execution": {
     "iopub.execute_input": "2025-08-19T16:09:59.921324Z",
     "iopub.status.busy": "2025-08-19T16:09:59.920828Z",
     "iopub.status.idle": "2025-08-19T16:09:59.986680Z",
     "shell.execute_reply": "2025-08-19T16:09:59.985691Z"
    },
    "papermill": {
     "duration": 0.070403,
     "end_time": "2025-08-19T16:09:59.988126",
     "exception": false,
     "start_time": "2025-08-19T16:09:59.917723",
     "status": "completed"
    },
    "tags": []
   },
   "outputs": [
    {
     "data": {
      "text/html": [
       "<div>\n",
       "<style scoped>\n",
       "    .dataframe tbody tr th:only-of-type {\n",
       "        vertical-align: middle;\n",
       "    }\n",
       "\n",
       "    .dataframe tbody tr th {\n",
       "        vertical-align: top;\n",
       "    }\n",
       "\n",
       "    .dataframe thead th {\n",
       "        text-align: right;\n",
       "    }\n",
       "</style>\n",
       "<table border=\"1\" class=\"dataframe\">\n",
       "  <thead>\n",
       "    <tr style=\"text-align: right;\">\n",
       "      <th></th>\n",
       "      <th>Age</th>\n",
       "      <th>Gender</th>\n",
       "      <th>Height</th>\n",
       "      <th>Weight</th>\n",
       "      <th>CALC</th>\n",
       "      <th>FAVC</th>\n",
       "      <th>FCVC</th>\n",
       "      <th>NCP</th>\n",
       "      <th>SCC</th>\n",
       "      <th>SMOKE</th>\n",
       "      <th>CH2O</th>\n",
       "      <th>family_history_with_overweight</th>\n",
       "      <th>FAF</th>\n",
       "      <th>TUE</th>\n",
       "      <th>CAEC</th>\n",
       "      <th>MTRANS</th>\n",
       "      <th>NObeyesdad</th>\n",
       "    </tr>\n",
       "  </thead>\n",
       "  <tbody>\n",
       "    <tr>\n",
       "      <th>0</th>\n",
       "      <td>21.0</td>\n",
       "      <td>Female</td>\n",
       "      <td>1.62</td>\n",
       "      <td>64.0</td>\n",
       "      <td>no</td>\n",
       "      <td>no</td>\n",
       "      <td>2.0</td>\n",
       "      <td>3.0</td>\n",
       "      <td>no</td>\n",
       "      <td>no</td>\n",
       "      <td>2.0</td>\n",
       "      <td>yes</td>\n",
       "      <td>0.0</td>\n",
       "      <td>1.0</td>\n",
       "      <td>Sometimes</td>\n",
       "      <td>Public_Transportation</td>\n",
       "      <td>Normal_Weight</td>\n",
       "    </tr>\n",
       "    <tr>\n",
       "      <th>1</th>\n",
       "      <td>21.0</td>\n",
       "      <td>Female</td>\n",
       "      <td>1.52</td>\n",
       "      <td>56.0</td>\n",
       "      <td>Sometimes</td>\n",
       "      <td>no</td>\n",
       "      <td>3.0</td>\n",
       "      <td>3.0</td>\n",
       "      <td>yes</td>\n",
       "      <td>yes</td>\n",
       "      <td>3.0</td>\n",
       "      <td>yes</td>\n",
       "      <td>3.0</td>\n",
       "      <td>0.0</td>\n",
       "      <td>Sometimes</td>\n",
       "      <td>Public_Transportation</td>\n",
       "      <td>Normal_Weight</td>\n",
       "    </tr>\n",
       "    <tr>\n",
       "      <th>2</th>\n",
       "      <td>23.0</td>\n",
       "      <td>Male</td>\n",
       "      <td>1.80</td>\n",
       "      <td>77.0</td>\n",
       "      <td>Frequently</td>\n",
       "      <td>no</td>\n",
       "      <td>2.0</td>\n",
       "      <td>3.0</td>\n",
       "      <td>no</td>\n",
       "      <td>no</td>\n",
       "      <td>2.0</td>\n",
       "      <td>yes</td>\n",
       "      <td>2.0</td>\n",
       "      <td>1.0</td>\n",
       "      <td>Sometimes</td>\n",
       "      <td>Public_Transportation</td>\n",
       "      <td>Normal_Weight</td>\n",
       "    </tr>\n",
       "    <tr>\n",
       "      <th>3</th>\n",
       "      <td>27.0</td>\n",
       "      <td>Male</td>\n",
       "      <td>1.80</td>\n",
       "      <td>87.0</td>\n",
       "      <td>Frequently</td>\n",
       "      <td>no</td>\n",
       "      <td>3.0</td>\n",
       "      <td>3.0</td>\n",
       "      <td>no</td>\n",
       "      <td>no</td>\n",
       "      <td>2.0</td>\n",
       "      <td>no</td>\n",
       "      <td>2.0</td>\n",
       "      <td>0.0</td>\n",
       "      <td>Sometimes</td>\n",
       "      <td>Walking</td>\n",
       "      <td>Overweight_Level_I</td>\n",
       "    </tr>\n",
       "    <tr>\n",
       "      <th>4</th>\n",
       "      <td>22.0</td>\n",
       "      <td>Male</td>\n",
       "      <td>1.78</td>\n",
       "      <td>89.8</td>\n",
       "      <td>Sometimes</td>\n",
       "      <td>no</td>\n",
       "      <td>2.0</td>\n",
       "      <td>1.0</td>\n",
       "      <td>no</td>\n",
       "      <td>no</td>\n",
       "      <td>2.0</td>\n",
       "      <td>no</td>\n",
       "      <td>0.0</td>\n",
       "      <td>0.0</td>\n",
       "      <td>Sometimes</td>\n",
       "      <td>Public_Transportation</td>\n",
       "      <td>Overweight_Level_II</td>\n",
       "    </tr>\n",
       "  </tbody>\n",
       "</table>\n",
       "</div>"
      ],
      "text/plain": [
       "    Age  Gender  Height  Weight        CALC FAVC  FCVC  NCP  SCC SMOKE  CH2O  \\\n",
       "0  21.0  Female    1.62    64.0          no   no   2.0  3.0   no    no   2.0   \n",
       "1  21.0  Female    1.52    56.0   Sometimes   no   3.0  3.0  yes   yes   3.0   \n",
       "2  23.0    Male    1.80    77.0  Frequently   no   2.0  3.0   no    no   2.0   \n",
       "3  27.0    Male    1.80    87.0  Frequently   no   3.0  3.0   no    no   2.0   \n",
       "4  22.0    Male    1.78    89.8   Sometimes   no   2.0  1.0   no    no   2.0   \n",
       "\n",
       "  family_history_with_overweight  FAF  TUE       CAEC                 MTRANS  \\\n",
       "0                            yes  0.0  1.0  Sometimes  Public_Transportation   \n",
       "1                            yes  3.0  0.0  Sometimes  Public_Transportation   \n",
       "2                            yes  2.0  1.0  Sometimes  Public_Transportation   \n",
       "3                             no  2.0  0.0  Sometimes                Walking   \n",
       "4                             no  0.0  0.0  Sometimes  Public_Transportation   \n",
       "\n",
       "            NObeyesdad  \n",
       "0        Normal_Weight  \n",
       "1        Normal_Weight  \n",
       "2        Normal_Weight  \n",
       "3   Overweight_Level_I  \n",
       "4  Overweight_Level_II  "
      ]
     },
     "execution_count": 2,
     "metadata": {},
     "output_type": "execute_result"
    }
   ],
   "source": [
    "import pandas as pd\n",
    "df = pd.read_csv(\"/kaggle/input/obesity-levels/ObesityDataSet_raw_and_data_sinthetic.csv\")\n",
    "df.head()\n"
   ]
  },
  {
   "cell_type": "code",
   "execution_count": 3,
   "id": "c5a3ffba",
   "metadata": {
    "execution": {
     "iopub.execute_input": "2025-08-19T16:09:59.994318Z",
     "iopub.status.busy": "2025-08-19T16:09:59.993996Z",
     "iopub.status.idle": "2025-08-19T16:10:01.654014Z",
     "shell.execute_reply": "2025-08-19T16:10:01.653004Z"
    },
    "papermill": {
     "duration": 1.665182,
     "end_time": "2025-08-19T16:10:01.655908",
     "exception": false,
     "start_time": "2025-08-19T16:09:59.990726",
     "status": "completed"
    },
    "tags": []
   },
   "outputs": [],
   "source": [
    "from sklearn.model_selection import train_test_split\n",
    "\n",
    "X = df.drop('NObeyesdad', axis=1)\n",
    "y = df['NObeyesdad']\n",
    "\n",
    "\n",
    "x_train, x_test, y_train, y_test = train_test_split(X, y, test_size=0.2, random_state=42)\n",
    "\n"
   ]
  },
  {
   "cell_type": "code",
   "execution_count": 4,
   "id": "7b41ec7c",
   "metadata": {
    "execution": {
     "iopub.execute_input": "2025-08-19T16:10:01.662624Z",
     "iopub.status.busy": "2025-08-19T16:10:01.662189Z",
     "iopub.status.idle": "2025-08-19T16:10:01.675469Z",
     "shell.execute_reply": "2025-08-19T16:10:01.674435Z"
    },
    "papermill": {
     "duration": 0.018261,
     "end_time": "2025-08-19T16:10:01.676989",
     "exception": false,
     "start_time": "2025-08-19T16:10:01.658728",
     "status": "completed"
    },
    "tags": []
   },
   "outputs": [
    {
     "name": "stdout",
     "output_type": "stream",
     "text": [
      "[]\n"
     ]
    }
   ],
   "source": [
    "constant_features = [col for col in x_train.columns if x_train[col].nunique() == 1]\n",
    "\n",
    "print(constant_features)"
   ]
  },
  {
   "cell_type": "code",
   "execution_count": 5,
   "id": "0b05b49d",
   "metadata": {
    "execution": {
     "iopub.execute_input": "2025-08-19T16:10:01.683932Z",
     "iopub.status.busy": "2025-08-19T16:10:01.683609Z",
     "iopub.status.idle": "2025-08-19T16:10:01.700737Z",
     "shell.execute_reply": "2025-08-19T16:10:01.699587Z"
    },
    "papermill": {
     "duration": 0.022588,
     "end_time": "2025-08-19T16:10:01.702428",
     "exception": false,
     "start_time": "2025-08-19T16:10:01.679840",
     "status": "completed"
    },
    "tags": []
   },
   "outputs": [
    {
     "name": "stdout",
     "output_type": "stream",
     "text": [
      "[]\n"
     ]
    }
   ],
   "source": [
    "quasi_constant_features = []\n",
    "\n",
    "threshold = 0.98\n",
    "\n",
    "for col in x_train.columns:\n",
    "    freq = x_train[col].value_counts(normalize=True).values[0]\n",
    "    if freq >= threshold:\n",
    "        quasi_constant_features.append(col)\n",
    "\n",
    "print( quasi_constant_features)\n",
    "\n"
   ]
  },
  {
   "cell_type": "code",
   "execution_count": 6,
   "id": "73585e16",
   "metadata": {
    "execution": {
     "iopub.execute_input": "2025-08-19T16:10:01.708641Z",
     "iopub.status.busy": "2025-08-19T16:10:01.708315Z",
     "iopub.status.idle": "2025-08-19T16:10:01.723339Z",
     "shell.execute_reply": "2025-08-19T16:10:01.722217Z"
    },
    "papermill": {
     "duration": 0.019942,
     "end_time": "2025-08-19T16:10:01.724938",
     "exception": false,
     "start_time": "2025-08-19T16:10:01.704996",
     "status": "completed"
    },
    "tags": []
   },
   "outputs": [
    {
     "name": "stdout",
     "output_type": "stream",
     "text": [
      "[]\n"
     ]
    }
   ],
   "source": [
    "import numpy as np\n",
    "non_constant_cols = [col for col in x_train.columns if x_train[col].nunique() > 1]\n",
    "x_train_non_constant = x_train[non_constant_cols]\n",
    "corr_matrix = x_train_non_constant.corr(numeric_only=True).abs()\n",
    "upper = corr_matrix.where(np.triu(np.ones(corr_matrix.shape), k=1).astype(bool)).fillna(0)\n",
    "correlated_features = [col for col in upper.columns if any(upper[col] > 0.90)]\n",
    "\n",
    "print( correlated_features)\n"
   ]
  },
  {
   "cell_type": "code",
   "execution_count": 7,
   "id": "78d9b2ba",
   "metadata": {
    "execution": {
     "iopub.execute_input": "2025-08-19T16:10:01.731591Z",
     "iopub.status.busy": "2025-08-19T16:10:01.731254Z",
     "iopub.status.idle": "2025-08-19T16:10:02.392215Z",
     "shell.execute_reply": "2025-08-19T16:10:02.391048Z"
    },
    "papermill": {
     "duration": 0.666065,
     "end_time": "2025-08-19T16:10:02.393731",
     "exception": false,
     "start_time": "2025-08-19T16:10:01.727666",
     "status": "completed"
    },
    "tags": []
   },
   "outputs": [
    {
     "name": "stdout",
     "output_type": "stream",
     "text": [
      "Top 10 Features by Mutual Information:\n",
      "Weight           1.239457\n",
      "Age              0.563325\n",
      "Height           0.453097\n",
      "FCVC             0.385501\n",
      "FAF              0.296472\n",
      "CH2O             0.274107\n",
      "TUE              0.270536\n",
      "NCP              0.258824\n",
      "Gender_Female    0.212955\n",
      "Gender_Male      0.204354\n",
      "dtype: float64\n"
     ]
    }
   ],
   "source": [
    "from sklearn.feature_selection import mutual_info_classif\n",
    "\n",
    "x_train_encoded = pd.get_dummies(x_train)\n",
    "x_test_encoded = pd.get_dummies(x_test)\n",
    "\n",
    "x_test_encoded = x_test_encoded.reindex(columns=x_train_encoded.columns, fill_value=0)\n",
    "\n",
    "mi_scores = mutual_info_classif(x_train_encoded, y_train)\n",
    "\n",
    "mi_series = pd.Series(mi_scores, index=x_train_encoded.columns).sort_values(ascending=False)\n",
    "\n",
    "print(\"Top 10 Features by Mutual Information:\")\n",
    "print(mi_series.head(10))\n"
   ]
  }
 ],
 "metadata": {
  "kaggle": {
   "accelerator": "none",
   "dataSources": [
    {
     "datasetId": 4751341,
     "sourceId": 8055891,
     "sourceType": "datasetVersion"
    }
   ],
   "dockerImageVersionId": 31089,
   "isGpuEnabled": false,
   "isInternetEnabled": false,
   "language": "python",
   "sourceType": "notebook"
  },
  "kernelspec": {
   "display_name": "Python 3",
   "language": "python",
   "name": "python3"
  },
  "language_info": {
   "codemirror_mode": {
    "name": "ipython",
    "version": 3
   },
   "file_extension": ".py",
   "mimetype": "text/x-python",
   "name": "python",
   "nbconvert_exporter": "python",
   "pygments_lexer": "ipython3",
   "version": "3.11.13"
  },
  "papermill": {
   "default_parameters": {},
   "duration": 10.075293,
   "end_time": "2025-08-19T16:10:03.116921",
   "environment_variables": {},
   "exception": null,
   "input_path": "__notebook__.ipynb",
   "output_path": "__notebook__.ipynb",
   "parameters": {},
   "start_time": "2025-08-19T16:09:53.041628",
   "version": "2.6.0"
  }
 },
 "nbformat": 4,
 "nbformat_minor": 5
}
