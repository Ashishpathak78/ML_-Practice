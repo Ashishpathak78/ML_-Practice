{
  "nbformat": 4,
  "nbformat_minor": 0,
  "metadata": {
    "colab": {
      "provenance": [],
      "authorship_tag": "ABX9TyNWTfXOsqpOwXrr2aC4ajXU",
      "include_colab_link": true
    },
    "kernelspec": {
      "name": "python3",
      "display_name": "Python 3"
    },
    "language_info": {
      "name": "python"
    }
  },
  "cells": [
    {
      "cell_type": "markdown",
      "metadata": {
        "id": "view-in-github",
        "colab_type": "text"
      },
      "source": [
        "<a href=\"https://colab.research.google.com/github/Ashishpathak78/ML_-Practice/blob/Ashish/23_07_25_ML.ipynb\" target=\"_parent\"><img src=\"https://colab.research.google.com/assets/colab-badge.svg\" alt=\"Open In Colab\"/></a>"
      ]
    },
    {
      "cell_type": "code",
      "execution_count": null,
      "metadata": {
        "id": "_O_lij80c4xS"
      },
      "outputs": [],
      "source": [
        "import pandas as pd\n",
        "\n",
        "# Creating the original Sales DataFrame\n",
        "data = {\n",
        "    2014: [100.5, 150.8, 200.9, 30000, 40000],\n",
        "    2015: [12000, 18000, 22000, 30000, 45000],\n",
        "    2016: [20000, 50000, 70000, 100000, 125000],\n",
        "    2017: [50000, 60000, 70000, 80000, 90000]\n",
        "}\n",
        "index = ['Madhu', 'Kusum', 'Kinshuk', 'Ankit', 'Shruti']\n",
        "Sales = pd.DataFrame(data, index=index)\n"
      ]
    },
    {
      "cell_type": "code",
      "source": [
        "print(\"Row labels (index):\", Sales.index.tolist())\n"
      ],
      "metadata": {
        "colab": {
          "base_uri": "https://localhost:8080/"
        },
        "id": "XILiUMLV9Bd-",
        "outputId": "8dbc25c1-6010-4c6a-9a19-c44895e91898"
      },
      "execution_count": null,
      "outputs": [
        {
          "output_type": "stream",
          "name": "stdout",
          "text": [
            "Row labels (index): ['Madhu', 'Kusum', 'Kinshuk', 'Ankit', 'Shruti']\n"
          ]
        }
      ]
    },
    {
      "cell_type": "code",
      "source": [
        "print(\"Column labels:\", Sales.columns.tolist())\n"
      ],
      "metadata": {
        "colab": {
          "base_uri": "https://localhost:8080/"
        },
        "id": "tRyvRULO9Ed-",
        "outputId": "75a7acb2-994d-414e-af70-c5834629bae4"
      },
      "execution_count": null,
      "outputs": [
        {
          "output_type": "stream",
          "name": "stdout",
          "text": [
            "Column labels: [2014, 2015, 2016, 2017]\n"
          ]
        }
      ]
    },
    {
      "cell_type": "code",
      "source": [
        "print(\"Data types:\\n\", Sales.dtypes)\n"
      ],
      "metadata": {
        "colab": {
          "base_uri": "https://localhost:8080/"
        },
        "id": "xpkxgexz9I3I",
        "outputId": "18467db6-a89e-44c1-a945-2a3b75f70575"
      },
      "execution_count": null,
      "outputs": [
        {
          "output_type": "stream",
          "name": "stdout",
          "text": [
            "Data types:\n",
            " 2014    float64\n",
            "2015      int64\n",
            "2016      int64\n",
            "2017      int64\n",
            "dtype: object\n"
          ]
        }
      ]
    },
    {
      "cell_type": "code",
      "source": [
        "print(\"Dimensions (ndim):\", Sales.ndim)\n",
        "print(\"Shape (rows, columns):\", Sales.shape)\n",
        "print(\"Size (total elements):\", Sales.size)\n",
        "print(\"Values (as numpy array):\\n\", Sales.values)\n"
      ],
      "metadata": {
        "colab": {
          "base_uri": "https://localhost:8080/"
        },
        "id": "eRdeKx8f9Q_u",
        "outputId": "d03c8499-7103-460b-9425-56bd335c1264"
      },
      "execution_count": null,
      "outputs": [
        {
          "output_type": "stream",
          "name": "stdout",
          "text": [
            "Dimensions (ndim): 2\n",
            "Shape (rows, columns): (5, 4)\n",
            "Size (total elements): 20\n",
            "Values (as numpy array):\n",
            " [[1.005e+02 1.200e+04 2.000e+04 5.000e+04]\n",
            " [1.508e+02 1.800e+04 5.000e+04 6.000e+04]\n",
            " [2.009e+02 2.200e+04 7.000e+04 7.000e+04]\n",
            " [3.000e+04 3.000e+04 1.000e+05 8.000e+04]\n",
            " [4.000e+04 4.500e+04 1.250e+05 9.000e+04]]\n"
          ]
        }
      ]
    },
    {
      "cell_type": "code",
      "source": [
        "print(\"Last two rows:\\n\", Sales.tail(2))\n"
      ],
      "metadata": {
        "colab": {
          "base_uri": "https://localhost:8080/"
        },
        "id": "_uYqlji8_1lB",
        "outputId": "21b164d3-3fb5-4357-df69-780dfd52c7ab"
      },
      "execution_count": null,
      "outputs": [
        {
          "output_type": "stream",
          "name": "stdout",
          "text": [
            "Last two rows:\n",
            "            2014   2015    2016   2017\n",
            "Ankit   30000.0  30000  100000  80000\n",
            "Shruti  40000.0  45000  125000  90000\n"
          ]
        }
      ]
    },
    {
      "cell_type": "code",
      "source": [
        "print(\"First two columns:\\n\", Sales.iloc[:, :2])\n"
      ],
      "metadata": {
        "colab": {
          "base_uri": "https://localhost:8080/"
        },
        "id": "P1Wiq8yJ_4H_",
        "outputId": "1aa96bd6-86e6-4715-a8c9-23dc20535297"
      },
      "execution_count": null,
      "outputs": [
        {
          "output_type": "stream",
          "name": "stdout",
          "text": [
            "First two columns:\n",
            "             2014   2015\n",
            "Madhu      100.5  12000\n",
            "Kusum      150.8  18000\n",
            "Kinshuk    200.9  22000\n",
            "Ankit    30000.0  30000\n",
            "Shruti   40000.0  45000\n"
          ]
        }
      ]
    },
    {
      "cell_type": "code",
      "source": [
        "sales_data_2018 = {\n",
        "    'Madhu': 160000,\n",
        "    'Kusum': 110000,\n",
        "    'Kinshuk': 500000,\n",
        "    'Ankit': 340000,\n",
        "    'Shruti': 900000\n",
        "}\n",
        "Sales2 = pd.DataFrame.from_dict(sales_data_2018, orient='index', columns=[2018])\n",
        "print(\"Sales2 DataFrame:\\n\", Sales2)\n"
      ],
      "metadata": {
        "colab": {
          "base_uri": "https://localhost:8080/"
        },
        "id": "I9Fc0e7K_7Vi",
        "outputId": "7c98e1b0-b858-4b42-fec2-2b1c20629062"
      },
      "execution_count": null,
      "outputs": [
        {
          "output_type": "stream",
          "name": "stdout",
          "text": [
            "Sales2 DataFrame:\n",
            "            2018\n",
            "Madhu    160000\n",
            "Kusum    110000\n",
            "Kinshuk  500000\n",
            "Ankit    340000\n",
            "Shruti   900000\n"
          ]
        }
      ]
    },
    {
      "cell_type": "code",
      "source": [
        "if Sales2.empty:\n",
        "    print(\"Sales2 is empty.\")\n",
        "else:\n",
        "    print(\"Sales2 contains data.\")\n"
      ],
      "metadata": {
        "colab": {
          "base_uri": "https://localhost:8080/"
        },
        "id": "MQfaRNQf1K4n",
        "outputId": "6e6e844f-5ecc-4e2f-e0f6-98ebe0dc6a89"
      },
      "execution_count": null,
      "outputs": [
        {
          "output_type": "stream",
          "name": "stdout",
          "text": [
            "Sales2 contains data.\n"
          ]
        }
      ]
    },
    {
      "cell_type": "code",
      "source": [
        "Sales = pd.concat([Sales, Sales2], axis=1)\n",
        "print(Sales)\n"
      ],
      "metadata": {
        "colab": {
          "base_uri": "https://localhost:8080/"
        },
        "id": "0j3KaI9M1Std",
        "outputId": "214d4538-a4a7-4176-9a79-841eb877adad"
      },
      "execution_count": null,
      "outputs": [
        {
          "output_type": "stream",
          "name": "stdout",
          "text": [
            "            2014   2015    2016   2017    2018\n",
            "Madhu      100.5  12000   20000  50000  160000\n",
            "Kusum      150.8  18000   50000  60000  110000\n",
            "Kinshuk    200.9  22000   70000  70000  500000\n",
            "Ankit    30000.0  30000  100000  80000  340000\n",
            "Shruti   40000.0  45000  125000  90000  900000\n"
          ]
        }
      ]
    },
    {
      "cell_type": "code",
      "source": [
        "Sales = Sales.T\n",
        "print(Sales)\n"
      ],
      "metadata": {
        "colab": {
          "base_uri": "https://localhost:8080/"
        },
        "id": "ph75xhcu1VpV",
        "outputId": "c02efc89-3f71-44d6-ea34-a8be05170358"
      },
      "execution_count": null,
      "outputs": [
        {
          "output_type": "stream",
          "name": "stdout",
          "text": [
            "         Madhu     Kusum   Kinshuk     Ankit    Shruti\n",
            "2014     100.5     150.8     200.9   30000.0   40000.0\n",
            "2015   12000.0   18000.0   22000.0   30000.0   45000.0\n",
            "2016   20000.0   50000.0   70000.0  100000.0  125000.0\n",
            "2017   50000.0   60000.0   70000.0   80000.0   90000.0\n",
            "2018  160000.0  110000.0  500000.0  340000.0  900000.0\n"
          ]
        }
      ]
    },
    {
      "cell_type": "code",
      "source": [
        "print(\"Sales in 2017:\\n\", Sales.loc[2017])\n",
        "print(Sales.iloc[3])"
      ],
      "metadata": {
        "colab": {
          "base_uri": "https://localhost:8080/"
        },
        "id": "2JV5AVV54YRr",
        "outputId": "0b74d3ef-bdf4-42e7-ddca-859d131a180e"
      },
      "execution_count": null,
      "outputs": [
        {
          "output_type": "stream",
          "name": "stdout",
          "text": [
            "Sales in 2017:\n",
            " Madhu      50000.0\n",
            "Kusum      60000.0\n",
            "Kinshuk    70000.0\n",
            "Ankit      80000.0\n",
            "Shruti     90000.0\n",
            "Name: 2017, dtype: float64\n",
            "Madhu      50000.0\n",
            "Kusum      60000.0\n",
            "Kinshuk    70000.0\n",
            "Ankit      80000.0\n",
            "Shruti     90000.0\n",
            "Name: 2017, dtype: float64\n"
          ]
        }
      ]
    },
    {
      "cell_type": "code",
      "source": [
        "print(\"Madhu & Ankit sales in 2017 & 2018:\\n\", Sales.loc[[2017, 2018], ['Madhu', 'Ankit']])\n"
      ],
      "metadata": {
        "colab": {
          "base_uri": "https://localhost:8080/"
        },
        "id": "lHe-VCtm4rrJ",
        "outputId": "0a5cb8b2-be07-4872-e6ba-7cf3f22fc2b1"
      },
      "execution_count": null,
      "outputs": [
        {
          "output_type": "stream",
          "name": "stdout",
          "text": [
            "Madhu & Ankit sales in 2017 & 2018:\n",
            "          Madhu     Ankit\n",
            "2017   50000.0   80000.0\n",
            "2018  160000.0  340000.0\n"
          ]
        }
      ]
    },
    {
      "cell_type": "code",
      "source": [
        "print(\"Shruti's sales in 2016:\", Sales.at[2016, 'Shruti'])"
      ],
      "metadata": {
        "colab": {
          "base_uri": "https://localhost:8080/"
        },
        "id": "OlLzPaEv5SW3",
        "outputId": "08f96016-70ac-4da0-981a-6507ad6e03b8"
      },
      "execution_count": null,
      "outputs": [
        {
          "output_type": "stream",
          "name": "stdout",
          "text": [
            "Shruti's sales in 2016: 125000.0\n"
          ]
        }
      ]
    },
    {
      "cell_type": "code",
      "source": [
        "Sales['Sumeet'] = [196.2, 37800, 52000, 78438, 38852]  # Add as new column\n",
        "print(\"After adding Sumeet:\\n\", Sales)\n"
      ],
      "metadata": {
        "colab": {
          "base_uri": "https://localhost:8080/"
        },
        "id": "wI_q_eJHTgPO",
        "outputId": "c2fb2fc1-afc3-46bf-9168-1d72d5a87f12"
      },
      "execution_count": null,
      "outputs": [
        {
          "output_type": "stream",
          "name": "stdout",
          "text": [
            "After adding Sumeet:\n",
            "          Madhu     Kusum   Kinshuk     Ankit    Shruti   Sumeet\n",
            "2014     100.5     150.8     200.9   30000.0   40000.0    196.2\n",
            "2015   12000.0   18000.0   22000.0   30000.0   45000.0  37800.0\n",
            "2016   20000.0   50000.0   70000.0  100000.0  125000.0  52000.0\n",
            "2017   50000.0   60000.0   70000.0   80000.0   90000.0  78438.0\n",
            "2018  160000.0  110000.0  500000.0  340000.0  900000.0  38852.0\n"
          ]
        }
      ]
    },
    {
      "cell_type": "code",
      "source": [
        "Sales = Sales.drop(2014)\n",
        "print(\"After dropping 2014:\\n\", Sales)\n"
      ],
      "metadata": {
        "colab": {
          "base_uri": "https://localhost:8080/"
        },
        "id": "yu40KIeaVqoj",
        "outputId": "e3f894b0-3c75-494c-892c-6f4ccef4bf31"
      },
      "execution_count": null,
      "outputs": [
        {
          "output_type": "stream",
          "name": "stdout",
          "text": [
            "After dropping 2014:\n",
            "          Madhu     Kusum   Kinshuk     Ankit    Shruti   Sumeet\n",
            "2015   12000.0   18000.0   22000.0   30000.0   45000.0  37800.0\n",
            "2016   20000.0   50000.0   70000.0  100000.0  125000.0  52000.0\n",
            "2017   50000.0   60000.0   70000.0   80000.0   90000.0  78438.0\n",
            "2018  160000.0  110000.0  500000.0  340000.0  900000.0  38852.0\n"
          ]
        }
      ]
    },
    {
      "cell_type": "code",
      "source": [
        "Sales = Sales.drop(columns='Kinshuk')\n",
        "print(\"After dropping Kinshuk:\\n\", Sales)\n"
      ],
      "metadata": {
        "colab": {
          "base_uri": "https://localhost:8080/"
        },
        "id": "c8xKmC7jVuMl",
        "outputId": "519d4113-a0b6-42d6-d790-bc3934df59a2"
      },
      "execution_count": null,
      "outputs": [
        {
          "output_type": "stream",
          "name": "stdout",
          "text": [
            "After dropping Kinshuk:\n",
            "          Madhu     Kusum     Ankit    Shruti   Sumeet\n",
            "2015   12000.0   18000.0   30000.0   45000.0  37800.0\n",
            "2016   20000.0   50000.0  100000.0  125000.0  52000.0\n",
            "2017   50000.0   60000.0   80000.0   90000.0  78438.0\n",
            "2018  160000.0  110000.0  340000.0  900000.0  38852.0\n"
          ]
        }
      ]
    },
    {
      "cell_type": "code",
      "source": [
        "Sales = Sales.rename(columns={'Ankit': 'Vivaan', 'Madhu': 'Shailesh'})\n",
        "print(\"After renaming:\\n\", Sales)\n"
      ],
      "metadata": {
        "colab": {
          "base_uri": "https://localhost:8080/"
        },
        "id": "mbgQOCWDVyeX",
        "outputId": "5bb243ce-f55f-436b-c06f-b76bba20bbf9"
      },
      "execution_count": null,
      "outputs": [
        {
          "output_type": "stream",
          "name": "stdout",
          "text": [
            "After renaming:\n",
            "       Shailesh     Kusum    Vivaan    Shruti   Sumeet\n",
            "2015   12000.0   18000.0   30000.0   45000.0  37800.0\n",
            "2016   20000.0   50000.0  100000.0  125000.0  52000.0\n",
            "2017   50000.0   60000.0   80000.0   90000.0  78438.0\n",
            "2018  160000.0  110000.0  340000.0  900000.0  38852.0\n"
          ]
        }
      ]
    },
    {
      "cell_type": "code",
      "source": [
        "Sales.at[2018, 'Shailesh'] = 100000\n",
        "print(\"After updating Shailesh's 2018 sale:\\n\", Sales)\n"
      ],
      "metadata": {
        "colab": {
          "base_uri": "https://localhost:8080/"
        },
        "id": "JZq0mtxxV0q3",
        "outputId": "f45cfff8-3a65-414f-ab3d-5c8a44554784"
      },
      "execution_count": null,
      "outputs": [
        {
          "output_type": "stream",
          "name": "stdout",
          "text": [
            "After updating Shailesh's 2018 sale:\n",
            "       Shailesh     Kusum    Vivaan    Shruti   Sumeet\n",
            "2015   12000.0   18000.0   30000.0   45000.0  37800.0\n",
            "2016   20000.0   50000.0  100000.0  125000.0  52000.0\n",
            "2017   50000.0   60000.0   80000.0   90000.0  78438.0\n",
            "2018  100000.0  110000.0  340000.0  900000.0  38852.0\n"
          ]
        }
      ]
    },
    {
      "cell_type": "code",
      "source": [
        "Sales.to_csv(\"SalesFigures.csv\", index=False, header=False)\n",
        "print(\"Data written to SalesFigures.csv (no headers or index).\")\n"
      ],
      "metadata": {
        "colab": {
          "base_uri": "https://localhost:8080/"
        },
        "id": "ZEpo9uJMV2Yg",
        "outputId": "fcc43b38-def8-40c2-f369-7246c15e7968"
      },
      "execution_count": null,
      "outputs": [
        {
          "output_type": "stream",
          "name": "stdout",
          "text": [
            "Data written to SalesFigures.csv (no headers or index).\n"
          ]
        }
      ]
    },
    {
      "cell_type": "code",
      "source": [
        "SalesRetrieved = pd.read_csv(\"SalesFigures.csv\", header=None)\n",
        "\n",
        "# Update column and row labels to match `Sales`\n",
        "SalesRetrieved.columns = Sales.columns\n",
        "SalesRetrieved.index = Sales.index\n",
        "\n",
        "print(\"SalesRetrieved DataFrame:\\n\", SalesRetrieved)\n"
      ],
      "metadata": {
        "id": "QCUvMm9cV50v",
        "outputId": "1041395d-11e1-40de-b033-052fd5451c37",
        "colab": {
          "base_uri": "https://localhost:8080/"
        }
      },
      "execution_count": null,
      "outputs": [
        {
          "output_type": "stream",
          "name": "stdout",
          "text": [
            "SalesRetrieved DataFrame:\n",
            "       Shailesh     Kusum    Vivaan    Shruti   Sumeet\n",
            "2015   12000.0   18000.0   30000.0   45000.0  37800.0\n",
            "2016   20000.0   50000.0  100000.0  125000.0  52000.0\n",
            "2017   50000.0   60000.0   80000.0   90000.0  78438.0\n",
            "2018  100000.0  110000.0  340000.0  900000.0  38852.0\n"
          ]
        }
      ]
    },
    {
      "cell_type": "code",
      "source": [
        "import pandas as pd\n",
        "\n",
        "# Define the data\n",
        "data = {\n",
        "    'Item': ['TV', 'TV', 'TV', 'AC'],\n",
        "    'Company': ['LG', 'VIDEOCON', 'LG', 'SONY'],\n",
        "    'Rupees': [12000, 10000, 15000, 14000],\n",
        "    'USD': [700, 650, 800, 750]\n",
        "}\n",
        "\n",
        "# Create the DataFrame\n",
        "Product = pd.DataFrame(data)\n",
        "print(\"Product DataFrame:\\n\", Product)\n"
      ],
      "metadata": {
        "colab": {
          "base_uri": "https://localhost:8080/"
        },
        "id": "-kNUdKeRtk8e",
        "outputId": "30e252bd-7ef8-496d-9a41-be25007af4d3"
      },
      "execution_count": null,
      "outputs": [
        {
          "output_type": "stream",
          "name": "stdout",
          "text": [
            "Product DataFrame:\n",
            "   Item   Company  Rupees  USD\n",
            "0   TV        LG   12000  700\n",
            "1   TV  VIDEOCON   10000  650\n",
            "2   TV        LG   15000  800\n",
            "3   AC      SONY   14000  750\n"
          ]
        }
      ]
    },
    {
      "cell_type": "code",
      "source": [
        "new_rows = pd.DataFrame([\n",
        "    {'Item': 'AC', 'Company': 'LG', 'Rupees': 20000, 'USD': 900},\n",
        "    {'Item': 'TV', 'Company': 'SONY', 'Rupees': 13000, 'USD': 720}\n",
        "])\n",
        "\n",
        "# Append new rows to original DataFrame\n",
        "Product = pd.concat([Product, new_rows], ignore_index=True)\n",
        "print(\"Updated Product DataFrame:\\n\", Product)\n"
      ],
      "metadata": {
        "colab": {
          "base_uri": "https://localhost:8080/"
        },
        "id": "zxbJezGZtnes",
        "outputId": "156e7462-e83c-4edf-aeae-ebc2ac9a2fce"
      },
      "execution_count": null,
      "outputs": [
        {
          "output_type": "stream",
          "name": "stdout",
          "text": [
            "Updated Product DataFrame:\n",
            "   Item   Company  Rupees  USD\n",
            "0   TV        LG   12000  700\n",
            "1   TV  VIDEOCON   10000  650\n",
            "2   TV        LG   15000  800\n",
            "3   AC      SONY   14000  750\n",
            "4   AC        LG   20000  900\n",
            "5   TV      SONY   13000  720\n"
          ]
        }
      ]
    },
    {
      "cell_type": "code",
      "source": [
        "max_price = Product[(Product['Company'] == 'LG') & (Product['Item'] == 'TV')]['Rupees'].max()\n",
        "print(\"Maximum price of LG TV:\", max_price)\n"
      ],
      "metadata": {
        "colab": {
          "base_uri": "https://localhost:8080/"
        },
        "id": "YoPA5xdpxDmS",
        "outputId": "608f65d7-c86d-441c-8a69-7472095716f9"
      },
      "execution_count": null,
      "outputs": [
        {
          "output_type": "stream",
          "name": "stdout",
          "text": [
            "Maximum price of LG TV: 15000\n"
          ]
        }
      ]
    },
    {
      "cell_type": "code",
      "source": [
        "total_sum = Product['Rupees'].sum()\n",
        "print(\"Total sum of all products in Rupees:\", total_sum)\n"
      ],
      "metadata": {
        "colab": {
          "base_uri": "https://localhost:8080/"
        },
        "id": "mKh1aiKxxGJW",
        "outputId": "8e43fae3-3c87-4c92-a67a-92d969c4649d"
      },
      "execution_count": null,
      "outputs": [
        {
          "output_type": "stream",
          "name": "stdout",
          "text": [
            "Total sum of all products in Rupees: 84000\n"
          ]
        }
      ]
    },
    {
      "cell_type": "code",
      "source": [
        "median_usd_sony = Product[Product['Company'] == 'SONY']['USD'].median()\n",
        "print(\"Median USD of SONY products:\", median_usd_sony)\n"
      ],
      "metadata": {
        "colab": {
          "base_uri": "https://localhost:8080/"
        },
        "id": "X-HAMu-4xHoA",
        "outputId": "716e1103-39f5-49ea-e4ec-b9926535ef96"
      },
      "execution_count": null,
      "outputs": [
        {
          "output_type": "stream",
          "name": "stdout",
          "text": [
            "Median USD of SONY products: 735.0\n"
          ]
        }
      ]
    },
    {
      "cell_type": "code",
      "source": [
        "sorted_product = Product.sort_values(by='Rupees')\n",
        "print(\"Sorted DataFrame:\\n\", sorted_product)\n"
      ],
      "metadata": {
        "colab": {
          "base_uri": "https://localhost:8080/"
        },
        "id": "JO6CqseVxSD_",
        "outputId": "7ed62be7-cc2d-4f7a-c9fb-93842dd7b987"
      },
      "execution_count": null,
      "outputs": [
        {
          "output_type": "stream",
          "name": "stdout",
          "text": [
            "Sorted DataFrame:\n",
            "   Item   Company  Rupees  USD\n",
            "1   TV  VIDEOCON   10000  650\n",
            "0   TV        LG   12000  700\n",
            "5   TV      SONY   13000  720\n",
            "3   AC      SONY   14000  750\n",
            "2   TV        LG   15000  800\n",
            "4   AC        LG   20000  900\n"
          ]
        }
      ]
    },
    {
      "cell_type": "code",
      "source": [
        "import pandas as pd\n",
        "import numpy as np\n",
        "\n",
        "data = {\n",
        "    'Name': ['Aparna', 'Pankaj', 'Ram', 'Ramesh', 'Naveen', 'Krrishav', 'Bhawna'],\n",
        "    'Degree': ['MBA', 'BCA', 'M.Tech', 'MBA', np.nan, 'BCA', 'MBA'],\n",
        "    'Score': [90.0, np.nan, 80.0, 98.0, 97.0, 78.0, 89.0]\n",
        "}\n",
        "\n",
        "df = pd.DataFrame(data)\n",
        "print(df)\n"
      ],
      "metadata": {
        "colab": {
          "base_uri": "https://localhost:8080/"
        },
        "id": "y4B96C8Sxc0T",
        "outputId": "1a4221a1-f02c-4c85-b474-c2c6c6f7d5df"
      },
      "execution_count": null,
      "outputs": [
        {
          "output_type": "stream",
          "name": "stdout",
          "text": [
            "       Name  Degree  Score\n",
            "0    Aparna     MBA   90.0\n",
            "1    Pankaj     BCA    NaN\n",
            "2       Ram  M.Tech   80.0\n",
            "3    Ramesh     MBA   98.0\n",
            "4    Naveen     NaN   97.0\n",
            "5  Krrishav     BCA   78.0\n",
            "6    Bhawna     MBA   89.0\n"
          ]
        }
      ]
    },
    {
      "cell_type": "code",
      "source": [
        "print(df.groupby('Degree')['Score'].max())\n"
      ],
      "metadata": {
        "colab": {
          "base_uri": "https://localhost:8080/"
        },
        "id": "S0JhqILUfua0",
        "outputId": "a39e5bb0-42b4-4072-8e87-0fae83fe3f2b"
      },
      "execution_count": null,
      "outputs": [
        {
          "output_type": "stream",
          "name": "stdout",
          "text": [
            "Degree\n",
            "BCA       78.0\n",
            "M.Tech    80.0\n",
            "MBA       98.0\n",
            "Name: Score, dtype: float64\n"
          ]
        }
      ]
    },
    {
      "cell_type": "code",
      "source": [
        "df_filled = df.fillna(76)\n",
        "print(df_filled)\n"
      ],
      "metadata": {
        "colab": {
          "base_uri": "https://localhost:8080/"
        },
        "id": "JMu6kJ9sgOi8",
        "outputId": "23e83d39-53fd-47f3-ed4c-17a5a84c9156"
      },
      "execution_count": null,
      "outputs": [
        {
          "output_type": "stream",
          "name": "stdout",
          "text": [
            "       Name  Degree  Score\n",
            "0    Aparna     MBA   90.0\n",
            "1    Pankaj     BCA   76.0\n",
            "2       Ram  M.Tech   80.0\n",
            "3    Ramesh     MBA   98.0\n",
            "4    Naveen      76   97.0\n",
            "5  Krrishav     BCA   78.0\n",
            "6    Bhawna     MBA   89.0\n"
          ]
        }
      ]
    },
    {
      "cell_type": "code",
      "source": [
        "df_indexed = df.set_index('Name')\n",
        "print(df_indexed)\n"
      ],
      "metadata": {
        "colab": {
          "base_uri": "https://localhost:8080/"
        },
        "id": "UUClrmuJgPvF",
        "outputId": "c40c323e-cd30-4c02-e567-7c9dccdc2d4d"
      },
      "execution_count": null,
      "outputs": [
        {
          "output_type": "stream",
          "name": "stdout",
          "text": [
            "          Degree  Score\n",
            "Name                   \n",
            "Aparna       MBA   90.0\n",
            "Pankaj       BCA    NaN\n",
            "Ram       M.Tech   80.0\n",
            "Ramesh       MBA   98.0\n",
            "Naveen       NaN   97.0\n",
            "Krrishav     BCA   78.0\n",
            "Bhawna       MBA   89.0\n"
          ]
        }
      ]
    },
    {
      "cell_type": "code",
      "source": [
        "print(df.groupby(['Name', 'Degree'])['Score'].mean())\n"
      ],
      "metadata": {
        "colab": {
          "base_uri": "https://localhost:8080/"
        },
        "id": "kWj8mZYPgm4a",
        "outputId": "4654ecdb-deef-4364-9bc8-48b74848ddc9"
      },
      "execution_count": null,
      "outputs": [
        {
          "output_type": "stream",
          "name": "stdout",
          "text": [
            "Name      Degree\n",
            "Aparna    MBA       90.0\n",
            "Bhawna    MBA       89.0\n",
            "Krrishav  BCA       78.0\n",
            "Pankaj    BCA        NaN\n",
            "Ram       M.Tech    80.0\n",
            "Ramesh    MBA       98.0\n",
            "Name: Score, dtype: float64\n"
          ]
        }
      ]
    },
    {
      "cell_type": "code",
      "source": [
        "mba_count = df[df['Degree'] == 'MBA'].shape[0]\n",
        "print(\"Number of MBA students:\", mba_count)\n"
      ],
      "metadata": {
        "colab": {
          "base_uri": "https://localhost:8080/"
        },
        "id": "-E6kk4eoiTSj",
        "outputId": "93304416-b380-4ed5-ee8e-6379799cbe09"
      },
      "execution_count": null,
      "outputs": [
        {
          "output_type": "stream",
          "name": "stdout",
          "text": [
            "Number of MBA students: 3\n"
          ]
        }
      ]
    },
    {
      "cell_type": "code",
      "source": [
        "bca_mode = df[df['Degree'] == 'BCA']['Score'].mode()\n",
        "print(\"Mode marks in BCA:\\n\", bca_mode)\n",
        "\n"
      ],
      "metadata": {
        "colab": {
          "base_uri": "https://localhost:8080/"
        },
        "id": "2sQwiMVziUBU",
        "outputId": "c8c354b7-f388-4a65-b28e-cfe436fe4876"
      },
      "execution_count": null,
      "outputs": [
        {
          "output_type": "stream",
          "name": "stdout",
          "text": [
            "Mode marks in BCA:\n",
            " 0    78.0\n",
            "Name: Score, dtype: float64\n"
          ]
        }
      ]
    }
  ]
}