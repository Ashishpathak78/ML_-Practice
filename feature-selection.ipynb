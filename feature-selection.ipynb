{
 "cells": [
  {
   "cell_type": "code",
   "execution_count": 1,
   "id": "7b23bcfc",
   "metadata": {
    "_cell_guid": "b1076dfc-b9ad-4769-8c92-a6c4dae69d19",
    "_uuid": "8f2839f25d086af736a60e9eeb907d3b93b6e0e5",
    "execution": {
     "iopub.execute_input": "2025-08-19T18:12:37.726332Z",
     "iopub.status.busy": "2025-08-19T18:12:37.726029Z",
     "iopub.status.idle": "2025-08-19T18:12:39.561646Z",
     "shell.execute_reply": "2025-08-19T18:12:39.560707Z"
    },
    "papermill": {
     "duration": 1.841633,
     "end_time": "2025-08-19T18:12:39.563411",
     "exception": false,
     "start_time": "2025-08-19T18:12:37.721778",
     "status": "completed"
    },
    "tags": []
   },
   "outputs": [],
   "source": [
    "# This Python 3 environment comes with many helpful analytics libraries installed\n",
    "# It is defined by the kaggle/python Docker image: https://github.com/kaggle/docker-python\n",
    "# For example, here's several helpful packages to load\n",
    "\n",
    "import numpy as np # linear algebra\n",
    "import pandas as pd # data processing, CSV file I/O (e.g. pd.read_csv)\n",
    "\n",
    "# Input data files are available in the read-only \"../input/\" directory\n",
    "# For example, running this (by clicking run or pressing Shift+Enter) will list all files under the input directory\n",
    "\n",
    "import os\n",
    "for dirname, _, filenames in os.walk('/kaggle/input'):\n",
    "    for filename in filenames:\n",
    "        print(os.path.join(dirname, filename))\n",
    "\n",
    "# You can write up to 20GB to the current directory (/kaggle/working/) that gets preserved as output when you create a version using \"Save & Run All\" \n",
    "# You can also write temporary files to /kaggle/temp/, but they won't be saved outside of the current session"
   ]
  },
  {
   "cell_type": "code",
   "execution_count": 2,
   "id": "e672cacc",
   "metadata": {
    "execution": {
     "iopub.execute_input": "2025-08-19T18:12:39.570443Z",
     "iopub.status.busy": "2025-08-19T18:12:39.569801Z",
     "iopub.status.idle": "2025-08-19T18:12:42.244041Z",
     "shell.execute_reply": "2025-08-19T18:12:42.243024Z"
    },
    "papermill": {
     "duration": 2.679284,
     "end_time": "2025-08-19T18:12:42.245781",
     "exception": false,
     "start_time": "2025-08-19T18:12:39.566497",
     "status": "completed"
    },
    "tags": []
   },
   "outputs": [],
   "source": [
    "import pandas as pd\n",
    "import matplotlib.pyplot as plt\n",
    "import seaborn as sns\n",
    "from sklearn.model_selection import train_test_split\n",
    "from sklearn.feature_selection import mutual_info_classif\n",
    "\n"
   ]
  },
  {
   "cell_type": "code",
   "execution_count": 3,
   "id": "3bf613f8",
   "metadata": {
    "execution": {
     "iopub.execute_input": "2025-08-19T18:12:42.252801Z",
     "iopub.status.busy": "2025-08-19T18:12:42.252421Z",
     "iopub.status.idle": "2025-08-19T18:12:42.274932Z",
     "shell.execute_reply": "2025-08-19T18:12:42.273931Z"
    },
    "papermill": {
     "duration": 0.027975,
     "end_time": "2025-08-19T18:12:42.276759",
     "exception": false,
     "start_time": "2025-08-19T18:12:42.248784",
     "status": "completed"
    },
    "tags": []
   },
   "outputs": [
    {
     "name": "stdout",
     "output_type": "stream",
     "text": [
      "   Age  Salary  Experience  Department  Performance_Rating  Education_Level  \\\n",
      "0   25   50000           2           1                   3                2   \n",
      "1   34   72000           5           2                   4                3   \n",
      "2   45   98000          15           2                   5                3   \n",
      "3   23   45000           1           1                   2                1   \n",
      "4   35   75000           6           3                   4                3   \n",
      "\n",
      "  Country  Remote_Work  Years_of_Work  Monthly_Income  Health_Score  \\\n",
      "0   India            1              2            4166            88   \n",
      "1   India            1              5            6000            80   \n",
      "2   India            1             15            8166            70   \n",
      "3   India            1              1            3750            90   \n",
      "4   India            1              6            6250            75   \n",
      "\n",
      "   Left_Company  \n",
      "0             0  \n",
      "1             1  \n",
      "2             1  \n",
      "3             0  \n",
      "4             1  \n"
     ]
    }
   ],
   "source": [
    "data = {\n",
    "    'Age': [25, 34, 45, 23, 35, 52, 46, 29, 31, 40, 38, 27, 50, 28, 33, 48, 30, 26, 42, 36],\n",
    "    'Salary': [50000, 72000, 98000, 45000, 75000, 120000, 105000, 60000, 64000, 89000, 85000, 56000, 115000, 58000, 70000, 102000, 62000, 51000, 96000, 80000],\n",
    "    'Experience': [2, 5, 15, 1, 6, 25, 18, 4, 5, 12, 10, 3, 22, 2, 5, 17, 4, 2, 14, 8],\n",
    "    'Department': [1, 2, 2, 1, 3, 4, 2, 1, 2, 3, 3, 1, 4, 1, 2, 2, 1, 1, 3, 3],\n",
    "    'Performance_Rating': [3, 4, 5, 2, 4, 5, 5, 3, 4, 5, 5, 3, 5, 3, 4, 5, 3, 3, 5, 4],\n",
    "    'Education_Level': [2, 3, 3, 1, 3, 4, 3, 2, 3, 4, 4, 2, 4, 2, 3, 3, 2, 2, 4, 3],\n",
    "\n",
    "    'Country': ['India'] * 20,\n",
    "    \n",
    "    'Remote_Work': [1] * 19 + [0],\n",
    "\n",
    "    'Years_of_Work': [2, 5, 15, 1, 6, 25, 18, 4, 5, 12, 10, 3, 22, 2, 5, 17, 4, 2, 14, 8],\n",
    "\n",
    "    'Monthly_Income': [4166, 6000, 8166, 3750, 6250, 10000, 8750, 5000, 5333, 7416, 7083, 4666, 9583, 4833, 5833, 8500, 5166, 4250, 8000, 6666],\n",
    "\n",
    "    'Health_Score': [88, 80, 70, 90, 75, 60, 65, 85, 82, 72, 74, 87, 62, 86, 81, 68, 83, 89, 71, 76],\n",
    "\n",
    "    'Left_Company': [0, 1, 1, 0, 1, 1, 1, 0, 1, 1, 1, 0, 1, 0, 1, 1, 0, 0, 1, 1]\n",
    "}\n",
    "\n",
    "df = pd.DataFrame(data)\n",
    "print(df.head())\n"
   ]
  },
  {
   "cell_type": "code",
   "execution_count": 4,
   "id": "e04ab7d2",
   "metadata": {
    "execution": {
     "iopub.execute_input": "2025-08-19T18:12:42.283176Z",
     "iopub.status.busy": "2025-08-19T18:12:42.282828Z",
     "iopub.status.idle": "2025-08-19T18:12:42.313953Z",
     "shell.execute_reply": "2025-08-19T18:12:42.313005Z"
    },
    "papermill": {
     "duration": 0.036304,
     "end_time": "2025-08-19T18:12:42.315663",
     "exception": false,
     "start_time": "2025-08-19T18:12:42.279359",
     "status": "completed"
    },
    "tags": []
   },
   "outputs": [
    {
     "data": {
      "text/html": [
       "<div>\n",
       "<style scoped>\n",
       "    .dataframe tbody tr th:only-of-type {\n",
       "        vertical-align: middle;\n",
       "    }\n",
       "\n",
       "    .dataframe tbody tr th {\n",
       "        vertical-align: top;\n",
       "    }\n",
       "\n",
       "    .dataframe thead th {\n",
       "        text-align: right;\n",
       "    }\n",
       "</style>\n",
       "<table border=\"1\" class=\"dataframe\">\n",
       "  <thead>\n",
       "    <tr style=\"text-align: right;\">\n",
       "      <th></th>\n",
       "      <th>Age</th>\n",
       "      <th>Salary</th>\n",
       "      <th>Experience</th>\n",
       "      <th>Department</th>\n",
       "      <th>Performance_Rating</th>\n",
       "      <th>Education_Level</th>\n",
       "      <th>Country</th>\n",
       "      <th>Remote_Work</th>\n",
       "      <th>Years_of_Work</th>\n",
       "      <th>Monthly_Income</th>\n",
       "      <th>Health_Score</th>\n",
       "    </tr>\n",
       "  </thead>\n",
       "  <tbody>\n",
       "    <tr>\n",
       "      <th>8</th>\n",
       "      <td>31</td>\n",
       "      <td>64000</td>\n",
       "      <td>5</td>\n",
       "      <td>2</td>\n",
       "      <td>4</td>\n",
       "      <td>3</td>\n",
       "      <td>India</td>\n",
       "      <td>1</td>\n",
       "      <td>5</td>\n",
       "      <td>5333</td>\n",
       "      <td>82</td>\n",
       "    </tr>\n",
       "    <tr>\n",
       "      <th>5</th>\n",
       "      <td>52</td>\n",
       "      <td>120000</td>\n",
       "      <td>25</td>\n",
       "      <td>4</td>\n",
       "      <td>5</td>\n",
       "      <td>4</td>\n",
       "      <td>India</td>\n",
       "      <td>1</td>\n",
       "      <td>25</td>\n",
       "      <td>10000</td>\n",
       "      <td>60</td>\n",
       "    </tr>\n",
       "    <tr>\n",
       "      <th>11</th>\n",
       "      <td>27</td>\n",
       "      <td>56000</td>\n",
       "      <td>3</td>\n",
       "      <td>1</td>\n",
       "      <td>3</td>\n",
       "      <td>2</td>\n",
       "      <td>India</td>\n",
       "      <td>1</td>\n",
       "      <td>3</td>\n",
       "      <td>4666</td>\n",
       "      <td>87</td>\n",
       "    </tr>\n",
       "    <tr>\n",
       "      <th>3</th>\n",
       "      <td>23</td>\n",
       "      <td>45000</td>\n",
       "      <td>1</td>\n",
       "      <td>1</td>\n",
       "      <td>2</td>\n",
       "      <td>1</td>\n",
       "      <td>India</td>\n",
       "      <td>1</td>\n",
       "      <td>1</td>\n",
       "      <td>3750</td>\n",
       "      <td>90</td>\n",
       "    </tr>\n",
       "    <tr>\n",
       "      <th>18</th>\n",
       "      <td>42</td>\n",
       "      <td>96000</td>\n",
       "      <td>14</td>\n",
       "      <td>3</td>\n",
       "      <td>5</td>\n",
       "      <td>4</td>\n",
       "      <td>India</td>\n",
       "      <td>1</td>\n",
       "      <td>14</td>\n",
       "      <td>8000</td>\n",
       "      <td>71</td>\n",
       "    </tr>\n",
       "  </tbody>\n",
       "</table>\n",
       "</div>"
      ],
      "text/plain": [
       "    Age  Salary  Experience  Department  Performance_Rating  Education_Level  \\\n",
       "8    31   64000           5           2                   4                3   \n",
       "5    52  120000          25           4                   5                4   \n",
       "11   27   56000           3           1                   3                2   \n",
       "3    23   45000           1           1                   2                1   \n",
       "18   42   96000          14           3                   5                4   \n",
       "\n",
       "   Country  Remote_Work  Years_of_Work  Monthly_Income  Health_Score  \n",
       "8    India            1              5            5333            82  \n",
       "5    India            1             25           10000            60  \n",
       "11   India            1              3            4666            87  \n",
       "3    India            1              1            3750            90  \n",
       "18   India            1             14            8000            71  "
      ]
     },
     "execution_count": 4,
     "metadata": {},
     "output_type": "execute_result"
    }
   ],
   "source": [
    "\n",
    "X = df.drop(columns=['Left_Company'])\n",
    "y = df['Left_Company']\n",
    "\n",
    "X_train, X_test, y_train, y_test = train_test_split(X, y, test_size=0.2, random_state=42)\n",
    "X_train.head()"
   ]
  },
  {
   "cell_type": "code",
   "execution_count": 5,
   "id": "99d26750",
   "metadata": {
    "execution": {
     "iopub.execute_input": "2025-08-19T18:12:42.323142Z",
     "iopub.status.busy": "2025-08-19T18:12:42.322089Z",
     "iopub.status.idle": "2025-08-19T18:12:42.335006Z",
     "shell.execute_reply": "2025-08-19T18:12:42.333646Z"
    },
    "papermill": {
     "duration": 0.017958,
     "end_time": "2025-08-19T18:12:42.336535",
     "exception": false,
     "start_time": "2025-08-19T18:12:42.318577",
     "status": "completed"
    },
    "tags": []
   },
   "outputs": [
    {
     "name": "stdout",
     "output_type": "stream",
     "text": [
      "Constant Features: ['Country']\n"
     ]
    }
   ],
   "source": [
    "\n",
    "constant_feature = [col for col in X_train.columns if X_train[col].nunique() == 1]\n",
    "\n",
    "print(\"Constant Features:\", constant_feature)\n",
    "\n",
    "X_train.drop(columns=constant_feature, inplace=True)\n",
    "X_test.drop(columns=constant_feature, inplace=True)\n"
   ]
  },
  {
   "cell_type": "code",
   "execution_count": 6,
   "id": "9d32d069",
   "metadata": {
    "execution": {
     "iopub.execute_input": "2025-08-19T18:12:42.343380Z",
     "iopub.status.busy": "2025-08-19T18:12:42.343083Z",
     "iopub.status.idle": "2025-08-19T18:12:42.359313Z",
     "shell.execute_reply": "2025-08-19T18:12:42.358442Z"
    },
    "papermill": {
     "duration": 0.021323,
     "end_time": "2025-08-19T18:12:42.360690",
     "exception": false,
     "start_time": "2025-08-19T18:12:42.339367",
     "status": "completed"
    },
    "tags": []
   },
   "outputs": [
    {
     "name": "stdout",
     "output_type": "stream",
     "text": [
      "Quasi-Constant Features: []\n"
     ]
    }
   ],
   "source": [
    "threshold = 0.98\n",
    "quasi_features = []\n",
    "\n",
    "for col in X_train.columns:\n",
    "    top_freq = X_train[col].value_counts(normalize=True).iloc[0]\n",
    "    if top_freq >= threshold:\n",
    "        quasi_features.append(col)\n",
    "\n",
    "print(\"Quasi-Constant Features:\", quasi_features)\n",
    "\n"
   ]
  },
  {
   "cell_type": "code",
   "execution_count": 7,
   "id": "9592e560",
   "metadata": {
    "execution": {
     "iopub.execute_input": "2025-08-19T18:12:42.367663Z",
     "iopub.status.busy": "2025-08-19T18:12:42.366987Z",
     "iopub.status.idle": "2025-08-19T18:12:42.375934Z",
     "shell.execute_reply": "2025-08-19T18:12:42.374906Z"
    },
    "papermill": {
     "duration": 0.013745,
     "end_time": "2025-08-19T18:12:42.377269",
     "exception": false,
     "start_time": "2025-08-19T18:12:42.363524",
     "status": "completed"
    },
    "tags": []
   },
   "outputs": [
    {
     "name": "stdout",
     "output_type": "stream",
     "text": [
      "Duplicated Features: ['Years_of_Work']\n"
     ]
    }
   ],
   "source": [
    "# Duplicated Features\n",
    "duplicated_features = []\n",
    "cols = X_train.columns\n",
    "\n",
    "for i in range(len(cols)):\n",
    "    for j in range(i + 1, len(cols)):\n",
    "        if X_train[cols[i]].equals(X_train[cols[j]]):\n",
    "            duplicated_features.append(cols[j])\n",
    "\n",
    "print(\"Duplicated Features:\", duplicated_features)\n",
    "\n",
    "X_train.drop(columns=duplicated_features, inplace=True)\n",
    "X_test.drop(columns=duplicated_features, inplace=True)"
   ]
  },
  {
   "cell_type": "code",
   "execution_count": 8,
   "id": "557726ec",
   "metadata": {
    "execution": {
     "iopub.execute_input": "2025-08-19T18:12:42.384485Z",
     "iopub.status.busy": "2025-08-19T18:12:42.383649Z",
     "iopub.status.idle": "2025-08-19T18:12:42.394669Z",
     "shell.execute_reply": "2025-08-19T18:12:42.393500Z"
    },
    "papermill": {
     "duration": 0.01628,
     "end_time": "2025-08-19T18:12:42.396340",
     "exception": false,
     "start_time": "2025-08-19T18:12:42.380060",
     "status": "completed"
    },
    "tags": []
   },
   "outputs": [
    {
     "name": "stdout",
     "output_type": "stream",
     "text": [
      "Highly Correlated Features: {'Monthly_Income', 'Health_Score', 'Salary', 'Experience'}\n"
     ]
    }
   ],
   "source": [
    "numeric_X_train = X_train.select_dtypes(include=['number'])\n",
    "corr_matrix = numeric_X_train.corr()\n",
    "\n",
    "corr_threshold = 0.98\n",
    "corr_pairs = set()\n",
    "\n",
    "for i in range(len(corr_matrix.columns)):\n",
    "    for j in range(i):\n",
    "        if abs(corr_matrix.iloc[i, j]) > corr_threshold:\n",
    "            corr_pairs.add(corr_matrix.columns[i])\n",
    "\n",
    "print(\"Highly Correlated Features:\", corr_pairs)\n",
    "\n",
    "\n",
    "X_train.drop(columns=corr_pairs, inplace=True)\n",
    "X_test.drop(columns=corr_pairs, inplace=True)"
   ]
  },
  {
   "cell_type": "code",
   "execution_count": 9,
   "id": "40ba5c09",
   "metadata": {
    "execution": {
     "iopub.execute_input": "2025-08-19T18:12:42.403456Z",
     "iopub.status.busy": "2025-08-19T18:12:42.403163Z",
     "iopub.status.idle": "2025-08-19T18:12:42.784057Z",
     "shell.execute_reply": "2025-08-19T18:12:42.783057Z"
    },
    "papermill": {
     "duration": 0.386186,
     "end_time": "2025-08-19T18:12:42.785699",
     "exception": false,
     "start_time": "2025-08-19T18:12:42.399513",
     "status": "completed"
    },
    "tags": []
   },
   "outputs": [
    {
     "data": {
      "image/png": "[encoded data removed]",
      "text/plain": [
       "<Figure size 1200x800 with 2 Axes>"
      ]
     },
     "metadata": {},
     "output_type": "display_data"
    }
   ],
   "source": [
    "plt.figure(figsize=(12, 8))\n",
    "sns.heatmap(corr_matrix, annot=False, cmap=\"coolwarm\")\n",
    "plt.title(\"Correlation Heatmap\")\n",
    "plt.show()\n"
   ]
  },
  {
   "cell_type": "code",
   "execution_count": 10,
   "id": "7331e445",
   "metadata": {
    "execution": {
     "iopub.execute_input": "2025-08-19T18:12:42.795685Z",
     "iopub.status.busy": "2025-08-19T18:12:42.795252Z",
     "iopub.status.idle": "2025-08-19T18:12:42.876520Z",
     "shell.execute_reply": "2025-08-19T18:12:42.875064Z"
    },
    "papermill": {
     "duration": 0.088303,
     "end_time": "2025-08-19T18:12:42.878175",
     "exception": false,
     "start_time": "2025-08-19T18:12:42.789872",
     "status": "completed"
    },
    "tags": []
   },
   "outputs": [
    {
     "name": "stdout",
     "output_type": "stream",
     "text": [
      "\n",
      "Mutual Information Scores:\n",
      "              Features  MI Score\n",
      "3     Education_Level  1.028522\n",
      "4         Remote_Work  0.831647\n",
      "1          Department  0.653522\n",
      "2  Performance_Rating  0.570188\n",
      "0                 Age  0.281051\n"
     ]
    }
   ],
   "source": [
    "numeric_X_train = X_train.select_dtypes(include=['number'])\n",
    "\n",
    "mi_scores = mutual_info_classif(numeric_X_train, y_train, discrete_features=False)\n",
    "\n",
    "mi_df = pd.DataFrame({\n",
    "    \"Features\": numeric_X_train.columns,\n",
    "    \"MI Score\": mi_scores\n",
    "})\n",
    "\n",
    "\n",
    "mi_df = mi_df.sort_values(by=\"MI Score\", ascending=False)\n",
    "\n",
    "print(\"\\nMutual Information Scores:\\n\", mi_df)\n",
    "\n",
    "selected_features = mi_df[mi_df[\"MI Score\"] > 0.01][\"Features\"].tolist()\n",
    "X_train = X_train[selected_features]\n",
    "X_test = X_test[selected_features]"
   ]
  },
  {
   "cell_type": "code",
   "execution_count": null,
   "id": "a586535f",
   "metadata": {
    "papermill": {
     "duration": 0.003515,
     "end_time": "2025-08-19T18:12:42.885738",
     "exception": false,
     "start_time": "2025-08-19T18:12:42.882223",
     "status": "completed"
    },
    "tags": []
   },
   "outputs": [],
   "source": []
  }
 ],
 "metadata": {
  "kaggle": {
   "accelerator": "none",
   "dataSources": [],
   "dockerImageVersionId": 31089,
   "isGpuEnabled": false,
   "isInternetEnabled": false,
   "language": "python",
   "sourceType": "notebook"
  },
  "kernelspec": {
   "display_name": "Python 3",
   "language": "python",
   "name": "python3"
  },
  "language_info": {
   "codemirror_mode": {
    "name": "ipython",
    "version": 3
   },
   "file_extension": ".py",
   "mimetype": "text/x-python",
   "name": "python",
   "nbconvert_exporter": "python",
   "pygments_lexer": "ipython3",
   "version": "3.11.13"
  },
  "papermill": {
   "default_parameters": {},
   "duration": 10.598521,
   "end_time": "2025-08-19T18:12:43.609200",
   "environment_variables": {},
   "exception": null,
   "input_path": "__notebook__.ipynb",
   "output_path": "__notebook__.ipynb",
   "parameters": {},
   "start_time": "2025-08-19T18:12:33.010679",
   "version": "2.6.0"
  }
 },
 "nbformat": 4,
 "nbformat_minor": 5
}
